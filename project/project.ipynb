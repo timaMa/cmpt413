{
 "cells": [
  {
   "cell_type": "markdown",
   "metadata": {},
   "source": [
    "# Abstract and Introduction\n",
    "\n",
    "As media becomes the main source of important news, the authenticity of those news becomes one of the most important things. The ultimate goal of the Fake News Challenge is meant to identify fake news through computers automatically. In order to achieve this ultimate goal, people need to approach the ideal results step by step. At the first step of this challenge, people need to teach computers to classify whether a headline and the associated body text are related or not. The baseline method provided by the organizers of this challenge is a gradient boosting classifier associated with 10-fold cross-validation. In this project, we propose a deep learning model using the idea Siamese model to check whether a headline and a body text are related. We first extract features from headlines and body texts using one-dimensional CNN respectively. And then we implement an MLP classifier to decide the relationship between a headline and the associated body text. The relationship between a headline and a body text contains agree, disagree, discuss, or unrelated. "
   ]
  },
  {
   "cell_type": "code",
   "execution_count": null,
   "metadata": {
    "id": "B0fLh5GU5ruJ"
   },
   "outputs": [],
   "source": [
    "from dataset import *"
   ]
  },
  {
   "cell_type": "code",
   "execution_count": null,
   "metadata": {
    "id": "VhIornjl5ruJ",
    "outputId": "8d75fb84-4ee7-42fd-a88c-a365a403d5c6"
   },
   "outputs": [
    {
     "name": "stdout",
     "output_type": "stream",
     "text": [
      "Reading dataset\n",
      "Total stances: 49972\n",
      "Total bodies: 1683\n"
     ]
    }
   ],
   "source": [
    "dataset = DataSet()"
   ]
  },
  {
   "cell_type": "code",
   "execution_count": null,
   "metadata": {
    "id": "O4ESwphP5ruK"
   },
   "outputs": [],
   "source": [
    "import nltk"
   ]
  },
  {
   "cell_type": "code",
   "execution_count": null,
   "metadata": {
    "colab": {
     "base_uri": "https://localhost:8080/"
    },
    "id": "rftgy0mY5ruK",
    "outputId": "e4219a5f-afaa-471e-d685-ac67f0b661eb",
    "scrolled": true
   },
   "outputs": [
    {
     "name": "stderr",
     "output_type": "stream",
     "text": [
      "[nltk_data] Downloading package punkt to /home/zerono614/nltk_data...\n",
      "[nltk_data]   Package punkt is already up-to-date!\n",
      "[nltk_data] Downloading package wordnet to\n",
      "[nltk_data]     /home/zerono614/nltk_data...\n",
      "[nltk_data]   Package wordnet is already up-to-date!\n"
     ]
    },
    {
     "data": {
      "text/plain": [
       "True"
      ]
     },
     "execution_count": 4,
     "metadata": {
      "tags": []
     },
     "output_type": "execute_result"
    }
   ],
   "source": [
    "nltk.download('punkt')\n",
    "nltk.download('wordnet')"
   ]
  },
  {
   "cell_type": "markdown",
   "metadata": {
    "id": "yJH8CdKb5ruK"
   },
   "source": [
    "# Baseline\n",
    "\n",
    "Running baseline method. The train datast is first divided into train dataset and validation dataset. \n",
    "\n",
    "And the train dataset is separated into 10 folds to do `cross validation`. Then the baseline method uses a `gradient boosting classifier` to classify the relationship between headlines and body texts."
   ]
  },
  {
   "cell_type": "code",
   "execution_count": null,
   "metadata": {
    "id": "aTirPRdR5ruK",
    "scrolled": true
   },
   "outputs": [],
   "source": [
    "!python3 fnc_kfold.py > output/baseline_output.txt"
   ]
  },
  {
   "cell_type": "markdown",
   "metadata": {
    "id": "1y-lLfMYpASL"
   },
   "source": [
    "### Read the baseline_output.txt and output the results\n",
    "\n",
    "Read the `baseline_output.txt` and output the results on `dev set` and on `test set`."
   ]
  },
  {
   "cell_type": "code",
   "execution_count": null,
   "metadata": {
    "id": "MKSMr_49pASM",
    "outputId": "19a4c170-ab17-4745-9d96-a4489b07f06c"
   },
   "outputs": [
    {
     "name": "stdout",
     "output_type": "stream",
     "text": [
      "Scores on the dev set\n",
      "-------------------------------------------------------------\n",
      "|           |   agree   | disagree  |  discuss  | unrelated |\n",
      "-------------------------------------------------------------\n",
      "|   agree   |    115    |     8     |    557    |    82     |\n",
      "-------------------------------------------------------------\n",
      "| disagree  |    16     |     3     |    128    |    15     |\n",
      "-------------------------------------------------------------\n",
      "|  discuss  |    60     |     3     |   1530    |    207    |\n",
      "-------------------------------------------------------------\n",
      "| unrelated |     5     |     1     |    96     |   6796    |\n",
      "-------------------------------------------------------------\n",
      "Score: 3540.0 out of 4448.5\t(79.57738563560751%)\n",
      "\n",
      "\n",
      "Scores on the test set\n",
      "-------------------------------------------------------------\n",
      "|           |   agree   | disagree  |  discuss  | unrelated |\n",
      "-------------------------------------------------------------\n",
      "|   agree   |    167    |    11     |   1439    |    286    |\n",
      "-------------------------------------------------------------\n",
      "| disagree  |    36     |     7     |    416    |    238    |\n",
      "-------------------------------------------------------------\n",
      "|  discuss  |    228    |    14     |   3546    |    676    |\n",
      "-------------------------------------------------------------\n",
      "| unrelated |     9     |     5     |    364    |   17971   |\n",
      "-------------------------------------------------------------\n",
      "Score: 8748.75 out of 11651.25\t(75.0885098165433%)\n"
     ]
    }
   ],
   "source": [
    "import os\n",
    "ref_t = []\n",
    "with open(os.path.join('output','baseline_output.txt')) as r:\n",
    "    # In the file, the lines from line 226 is the results\n",
    "    # Before line 226 is the results on 10 folds\n",
    "    for line in (r.readlines() [226:]): \n",
    "            print(line, end ='') "
   ]
  },
  {
   "cell_type": "markdown",
   "metadata": {
    "id": "oQh9RNPQ5ruK"
   },
   "source": [
    "# Deep learning\n",
    "\n",
    "We apply a neural network model named `Siamese Neural Network` to the `Fake News Stance Detection`. \n",
    "\n",
    "The neural network contains two parts. \n",
    "\n",
    "`1. One-dimensional CNN model`\n",
    "\n",
    "We use one dimensional CNN model to extract two 768-dimension feature from sentence embeddings of headlines and body texts respectively. \n",
    "\n",
    "`2. MLP Classifier`\n",
    "\n",
    "We use a 1536-dimension vector, which is concatenated from two 768-dimension vectors from CNNs as the input of this MLP and output a 4-dimension vector which indicates the 4 categories of the relationship between headlines and body texts, including `Agree`, `Disagree`, `Discuss` and `Unrelated`."
   ]
  },
  {
   "cell_type": "markdown",
   "metadata": {
    "id": "Q3cBeYYxL-GH"
   },
   "source": [
    "### Import necessary libraries\n",
    "\n",
    "This part import necessary libraries and download `nltk` data."
   ]
  },
  {
   "cell_type": "code",
   "execution_count": 153,
   "metadata": {
    "id": "vVXHYcRk5ruK"
   },
   "outputs": [],
   "source": [
    "# https://github.com/FakeNewsChallenge/fnc-1-baseline\n",
    "from fnc_kfold import *\n",
    "from feature_engineering import *\n",
    "from tqdm import tqdm\n",
    "import nltk\n",
    "import torch\n",
    "import torch.nn as nn\n",
    "import random"
   ]
  },
  {
   "cell_type": "code",
   "execution_count": 154,
   "metadata": {
    "colab": {
     "base_uri": "https://localhost:8080/"
    },
    "id": "_WZGsrfQ7Yps",
    "outputId": "393575f6-5e15-4e72-fa7b-da2fe43ae0c9"
   },
   "outputs": [
    {
     "name": "stdout",
     "output_type": "stream",
     "text": [
      "[nltk_data] Downloading package punkt to /root/nltk_data...\n",
      "[nltk_data]   Package punkt is already up-to-date!\n",
      "[nltk_data] Downloading package wordnet to /root/nltk_data...\n",
      "[nltk_data]   Package wordnet is already up-to-date!\n"
     ]
    },
    {
     "data": {
      "text/plain": [
       "True"
      ]
     },
     "execution_count": 154,
     "metadata": {
      "tags": []
     },
     "output_type": "execute_result"
    }
   ],
   "source": [
    "nltk.download('punkt')\n",
    "nltk.download('wordnet')"
   ]
  },
  {
   "cell_type": "markdown",
   "metadata": {
    "id": "pSpwL7unMnfg"
   },
   "source": [
    "## Create dataset\n",
    "\n",
    "This part separate the training data into train set and validation set. The percentage is 0.8. "
   ]
  },
  {
   "cell_type": "code",
   "execution_count": 155,
   "metadata": {
    "colab": {
     "base_uri": "https://localhost:8080/"
    },
    "id": "SBqB0Qlm5ruK",
    "outputId": "b61275df-d61d-49a5-fd55-56b9a9a83110",
    "scrolled": true
   },
   "outputs": [
    {
     "name": "stdout",
     "output_type": "stream",
     "text": [
      "Reading dataset\n",
      "Total stances: 49972\n",
      "Total bodies: 1683\n"
     ]
    }
   ],
   "source": [
    "# Use helper functions to separate the train dataset into train set and validation set\n",
    "dataset = DataSet()\n",
    "folds,hold_out = kfold_split(dataset,n_folds=1)\n",
    "train_stances, validation_stances = get_stances_for_folds(dataset,folds,hold_out)"
   ]
  },
  {
   "cell_type": "code",
   "execution_count": 156,
   "metadata": {
    "id": "4x366Ct25ruL"
   },
   "outputs": [],
   "source": [
    "# Get headlines in train set and validation set\n",
    "train_headlines = []\n",
    "validation_headlines = []\n",
    "\n",
    "for stance in train_stances[0]:\n",
    "  train_headlines.append(stance['Headline'])\n",
    "\n",
    "for stance in validation_stances:\n",
    "  validation_headlines.append(stance['Headline'])"
   ]
  },
  {
   "cell_type": "code",
   "execution_count": 157,
   "metadata": {
    "colab": {
     "base_uri": "https://localhost:8080/"
    },
    "id": "gG0mrT56DurW",
    "outputId": "325d8279-2fa3-4a2f-e4c9-e7f90a6991e9"
   },
   "outputs": [
    {
     "name": "stderr",
     "output_type": "stream",
     "text": [
      "\n",
      "100%|██████████| 1683/1683 [00:00<00:00, 1390116.90it/s]\n"
     ]
    }
   ],
   "source": [
    "# Get all body texts\n",
    "bodies = []\n",
    "\n",
    "for _, body in tqdm(dataset.articles.items()):\n",
    "  bodies.append(body)"
   ]
  },
  {
   "cell_type": "markdown",
   "metadata": {
    "id": "jrCO-6U6NKqt"
   },
   "source": [
    "## Create sentence embeddings\n",
    "\n",
    "This part use a pre-trained network named `InferSent` to obtain the `sentence embeddings`. `InferSent` is a sentence embeddings method that provides semantic representations for English sentences. `InferSent` uses word-embeddings from `fastText` to generate 4096-dimensional sentence embeddings for sentences with variable lengths."
   ]
  },
  {
   "cell_type": "code",
   "execution_count": 6,
   "metadata": {
    "colab": {
     "base_uri": "https://localhost:8080/"
    },
    "id": "lLZt-QjFKhXy",
    "outputId": "c1fa47d1-aaba-4620-d5a7-a657e60916d7"
   },
   "outputs": [
    {
     "name": "stdout",
     "output_type": "stream",
     "text": [
      "Archive:  crawl-300d-2M.vec.zip\n",
      "  inflating: fastText/crawl-300d-2M.vec  \n"
     ]
    }
   ],
   "source": [
    "# Download fastText word embeddings\n",
    "!mkdir fastText\n",
    "!wget -Lo fastText/crawl-300d-2M.vec.zip https://dl.fbaipublicfiles.com/fasttext/vectors-english/crawl-300d-2M.vec.zip\n",
    "!unzip crawl-300d-2M.vec.zip -d fastText/"
   ]
  },
  {
   "cell_type": "code",
   "execution_count": 7,
   "metadata": {
    "id": "tU88lI6cvFiS"
   },
   "outputs": [],
   "source": [
    "# Download pre-trained InferSent model\n",
    "!mkdir encoder\n",
    "!wget -Lo encoder/infersent2.pkl https://dl.fbaipublicfiles.com/infersent/infersent2.pkl"
   ]
  },
  {
   "cell_type": "code",
   "execution_count": 160,
   "metadata": {
    "id": "G3O9cSaju7ha"
   },
   "outputs": [],
   "source": [
    "# https://github.com/facebookresearch/InferSent\n",
    "# Load the pre-trained model \n",
    "from models import InferSent\n",
    "model_version = 2\n",
    "MODEL_PATH = \"infersent2.pkl\"\n",
    "W2V_PATH = 'fastText/crawl-300d-2M.vec'\n",
    "params_model = {'bsize': 64, 'word_emb_dim': 300, 'enc_lstm_dim': 2048,\n",
    "                'pool_type': 'max', 'dpout_model': 0.0, 'version': model_version}\n",
    "infersent = InferSent(params_model)\n",
    "infersent.load_state_dict(torch.load(MODEL_PATH))\n",
    "use_cuda = True\n",
    "infersent = infersent.cuda() if use_cuda else infersent\n",
    "infersent.set_w2v_path(W2V_PATH)"
   ]
  },
  {
   "cell_type": "code",
   "execution_count": null,
   "metadata": {
    "id": "oLVI6-0TprR_"
   },
   "outputs": [],
   "source": [
    "# Make directory for sentence embeddings\n",
    "!mkdir embeddings"
   ]
  },
  {
   "cell_type": "code",
   "execution_count": 161,
   "metadata": {
    "colab": {
     "base_uri": "https://localhost:8080/"
    },
    "id": "xuTRxZQFvhsb",
    "outputId": "2aef1e4c-2e2e-4880-cda5-1e4a2b3ff186"
   },
   "outputs": [
    {
     "name": "stdout",
     "output_type": "stream",
     "text": [
      "Found 4691(/4930) words with w2v vectors\n",
      "Vocab size : 4691\n"
     ]
    }
   ],
   "source": [
    "# Encode headlines in train set to sentence embeddings\n",
    "infersent.build_vocab(train_headlines, tokenize=True)\n",
    "train_headlines_embeddings = infersent.encode(train_headlines, bsize=128, tokenize=True)\n",
    "np.save(\"embeddings/train_headlines.npy\", train_headlines_embeddings)"
   ]
  },
  {
   "cell_type": "code",
   "execution_count": 162,
   "metadata": {
    "colab": {
     "base_uri": "https://localhost:8080/"
    },
    "id": "Te37c86XN3Dt",
    "outputId": "e0604445-f598-43bc-a2ac-68cb3f1177e3"
   },
   "outputs": [
    {
     "name": "stdout",
     "output_type": "stream",
     "text": [
      "Found 4577(/4806) words with w2v vectors\n",
      "Vocab size : 4577\n"
     ]
    }
   ],
   "source": [
    "# Encode headlines in validation set to sentence embeddings\n",
    "infersent.build_vocab(validation_headlines, tokenize=True)\n",
    "validation_headlines_embeddings = infersent.encode(validation_headlines, bsize=128, tokenize=True)\n",
    "np.save(\"embeddings/validation_headlines.npy\", validation_headlines_embeddings)"
   ]
  },
  {
   "cell_type": "code",
   "execution_count": 163,
   "metadata": {
    "colab": {
     "base_uri": "https://localhost:8080/"
    },
    "id": "8kdQWCbxwU6F",
    "outputId": "46304f89-5f8b-4b7c-8fb8-c056f492b4b5"
   },
   "outputs": [
    {
     "name": "stdout",
     "output_type": "stream",
     "text": [
      "Found 28141(/31492) words with w2v vectors\n",
      "Vocab size : 28141\n"
     ]
    }
   ],
   "source": [
    "# Encode body texts to sentence embeddings\n",
    "infersent.build_vocab(bodies, tokenize=True)\n",
    "bodies_embeddings = infersent.encode(bodies, bsize=16, tokenize=True)\n",
    "np.save(\"embeddings/bodies.npy\", bodies_embeddings)"
   ]
  },
  {
   "cell_type": "markdown",
   "metadata": {
    "id": "bqfRpsffOuDw"
   },
   "source": [
    "## Copy the obtained embeddings to Google drive for later use"
   ]
  },
  {
   "cell_type": "code",
   "execution_count": 164,
   "metadata": {
    "colab": {
     "base_uri": "https://localhost:8080/"
    },
    "id": "AyyskvIqAHIy",
    "outputId": "071a2569-120b-4936-a3fe-c0b2f58ac67f"
   },
   "outputs": [
    {
     "name": "stdout",
     "output_type": "stream",
     "text": [
      "Drive already mounted at /content/drive; to attempt to forcibly remount, call drive.mount(\"/content/drive\", force_remount=True).\n"
     ]
    }
   ],
   "source": [
    "from google.colab import drive\n",
    "drive.mount('/content/drive')"
   ]
  },
  {
   "cell_type": "code",
   "execution_count": 165,
   "metadata": {
    "id": "4fN25FeQAbyV"
   },
   "outputs": [],
   "source": [
    "!cp \"embeddings/train_headlines.npy\" \"/content/drive/My Drive/embeddings\"\n",
    "!cp \"embeddings/validation_headlines.npy\" \"/content/drive/My Drive/embeddings\"\n",
    "!cp \"embeddings/bodies.npy\" \"/content/drive/My Drive/embeddings\""
   ]
  },
  {
   "cell_type": "markdown",
   "metadata": {
    "id": "fMQhRBIZL7el"
   },
   "source": [
    "## Read pre-obtained embeddings"
   ]
  },
  {
   "cell_type": "code",
   "execution_count": null,
   "metadata": {
    "colab": {
     "base_uri": "https://localhost:8080/"
    },
    "id": "C51p1jdbqPb5",
    "outputId": "55994848-b7df-4505-8529-f1ecd56e72c3"
   },
   "outputs": [
    {
     "name": "stdout",
     "output_type": "stream",
     "text": [
      "Mounted at /content/drive\n"
     ]
    }
   ],
   "source": [
    "from google.colab import drive\n",
    "drive.mount('/content/drive')"
   ]
  },
  {
   "cell_type": "code",
   "execution_count": 145,
   "metadata": {
    "colab": {
     "base_uri": "https://localhost:8080/"
    },
    "id": "M-bk_TmwLtkV",
    "outputId": "1a48b94c-70d7-494f-aaf9-e5350de36488"
   },
   "outputs": [
    {
     "name": "stdout",
     "output_type": "stream",
     "text": [
      "mkdir: cannot create directory ‘embeddings’: File exists\n"
     ]
    }
   ],
   "source": [
    "!mkdir embeddings\n",
    "!cp \"/content/drive/My Drive/embeddings/train_headlines.npy\" \"embeddings/train_headlines.npy\"\n",
    "!cp \"/content/drive/My Drive/embeddings/validation_headlines.npy\" \"embeddings/validation_headlines.npy\" \n",
    "!cp \"/content/drive/My Drive/embeddings/bodies.npy\" \"embeddings/bodies.npy\" "
   ]
  },
  {
   "cell_type": "code",
   "execution_count": 166,
   "metadata": {
    "id": "jej01K7uMXaH"
   },
   "outputs": [],
   "source": [
    "# Load sentence embeddings for headlines in train set and validation set and body texts\n",
    "train_headlines_embeddings = np.load(\"embeddings/train_headlines.npy\")\n",
    "validation_headlines_embeddings = np.load(\"embeddings/validation_headlines.npy\")\n",
    "bodies_embeddings = np.load(\"embeddings/bodies.npy\" )"
   ]
  },
  {
   "cell_type": "markdown",
   "metadata": {
    "id": "qLGipPQPkKLS"
   },
   "source": [
    "## Create data loader\n",
    "\n",
    "This part create data loader for the training process."
   ]
  },
  {
   "cell_type": "code",
   "execution_count": 167,
   "metadata": {
    "id": "rsaRNdOC5ruO"
   },
   "outputs": [],
   "source": [
    "# Load sentence embeddings for body texts into a dictionary\n",
    "# {key = Body ID, value = sentence embeddings}\n",
    "bodies_embeddings_dict = {}\n",
    "ind = 0\n",
    "for i, body in dataset.articles.items():\n",
    "  bodies_embeddings_dict[i] = bodies_embeddings[ind]\n",
    "  ind += 1 "
   ]
  },
  {
   "cell_type": "code",
   "execution_count": 168,
   "metadata": {
    "id": "exEREiAZD3Dr"
   },
   "outputs": [],
   "source": [
    "# Make headline-body pairs\n",
    "def make_pairs(headlines_embs, bodies_embs_dict, stances):\n",
    "    pairs, labels = [], []\n",
    "    for i, stance in enumerate(stances):\n",
    "        headline = torch.cuda.FloatTensor(headlines_embs[i])\n",
    "        body = torch.cuda.FloatTensor(bodies_embs_dict[stance['Body ID']])\n",
    "        pairs.append(torch.cat([headline, body]).view(1, 8192))  \n",
    "        labels.append(LABELS.index(stance['Stance']))\n",
    "    return torch.cat(pairs), torch.cuda.LongTensor(labels)"
   ]
  },
  {
   "cell_type": "code",
   "execution_count": 169,
   "metadata": {
    "id": "wI9gNYU8Et92"
   },
   "outputs": [],
   "source": [
    "batch = 128\n",
    "pairs_train, labels_train = make_pairs(train_headlines_embeddings, bodies_embeddings_dict, train_stances[0])\n",
    "train = torch.utils.data.dataset.TensorDataset(pairs_train, labels_train)\n",
    "train_loader = torch.utils.data.DataLoader(train, batch_size=batch, shuffle=True)\n",
    "\n",
    "pairs_valid, labels_valid = make_pairs(validation_headlines_embeddings, bodies_embeddings_dict, validation_stances)\n",
    "valid = torch.utils.data.dataset.TensorDataset(pairs_valid, labels_valid)\n",
    "valid_loader = torch.utils.data.DataLoader(valid, batch_size=batch, shuffle=True)"
   ]
  },
  {
   "cell_type": "markdown",
   "metadata": {
    "id": "bv9KsfSTuV6N"
   },
   "source": [
    "## Build CNN model and Classifier model for this task"
   ]
  },
  {
   "cell_type": "code",
   "execution_count": 170,
   "metadata": {
    "id": "wT-syxjz5ruN"
   },
   "outputs": [],
   "source": [
    "class FakeNewsCNN(nn.Module):\n",
    "    ''' FakeNews CNN model '''\n",
    "\n",
    "    def __init__(self, dropout=0.2):\n",
    "        super().__init__()\n",
    "        self.relu = nn.ReLU()\n",
    "        self.conv1 = nn.Conv1d(in_channels = 4096, out_channels = 2048, kernel_size = 1)\n",
    "        self.dropout1 = nn.Dropout(dropout)\n",
    "        self.conv2 = nn.Conv1d(in_channels = 2048, out_channels = 2048, kernel_size = 1)\n",
    "        self.dropout2 = nn.Dropout(dropout)\n",
    "        self.conv3 = nn.Conv1d(in_channels = 2048, out_channels = 1024, kernel_size = 1)\n",
    "        self.conv4 = nn.Conv1d(in_channels = 1024, out_channels = 1024, kernel_size = 1)\n",
    "        self.dropout3 = nn.Dropout(dropout)\n",
    "        self.conv5 = nn.Conv1d(in_channels = 1024, out_channels = 1024, kernel_size = 1)\n",
    "        self.conv6 = nn.Conv1d(in_channels = 1024, out_channels = 768, kernel_size = 1)\n",
    "\n",
    "        self.batchnorm1 = nn.BatchNorm1d(2048)\n",
    "        self.batchnorm2 = nn.BatchNorm1d(2048)\n",
    "        self.batchnorm3 = nn.BatchNorm1d(1024)\n",
    "        self.batchnorm4 = nn.BatchNorm1d(1024)\n",
    "        self.batchnorm5 = nn.BatchNorm1d(1024)\n",
    "\n",
    "    def forward(self, x):\n",
    "\n",
    "        x = self.dropout1(self.relu(self.batchnorm1(self.conv1(x))))\n",
    "        x = self.dropout2(self.relu(self.batchnorm2(self.conv2(x))))\n",
    "        x = self.relu(self.batchnorm3(self.conv3(x)))         \n",
    "        x = self.dropout3(self.relu(self.batchnorm4(self.conv4(x))))\n",
    "        x = self.relu(self.batchnorm5(self.conv5(x)))\n",
    "        x = self.conv6(x)\n",
    "        \n",
    "        return x"
   ]
  },
  {
   "cell_type": "code",
   "execution_count": 171,
   "metadata": {
    "id": "BghESJNI5ruO"
   },
   "outputs": [],
   "source": [
    "class FakeNewsClassifier(nn.Module):\n",
    "    ''' FakeNews classifier model '''\n",
    "\n",
    "    def __init__(self):\n",
    "        super().__init__()\n",
    "        self.linear1 = nn.Linear(1536, 1024) \n",
    "        self.relu = nn.ReLU()\n",
    "        self.linear2 = nn.Linear(1024, 256) \n",
    "        self.linear3 = nn.Linear(256, 4) \n",
    "        self.softmax = nn.Softmax()\n",
    "        \n",
    "\n",
    "    def forward(self, x):\n",
    "\n",
    "        x = self.relu(self.linear1(x))\n",
    "        x = self.relu(self.linear2(x))\n",
    "        x = self.linear3(x)\n",
    "        x = self.softmax(x)\n",
    "        \n",
    "        return x"
   ]
  },
  {
   "cell_type": "markdown",
   "metadata": {
    "id": "4BhvMuQjpASO"
   },
   "source": [
    "### Build models"
   ]
  },
  {
   "cell_type": "code",
   "execution_count": 184,
   "metadata": {
    "id": "z2R02hbu5ruN"
   },
   "outputs": [],
   "source": [
    "fakeCNN = FakeNewsCNN().type(torch.cuda.FloatTensor)\n",
    "fakeClassifier = FakeNewsClassifier().type(torch.cuda.FloatTensor)"
   ]
  },
  {
   "cell_type": "markdown",
   "metadata": {
    "id": "ixXYbPzLugJp"
   },
   "source": [
    "## Train"
   ]
  },
  {
   "cell_type": "code",
   "execution_count": 185,
   "metadata": {
    "id": "dnDZpPNflnfE"
   },
   "outputs": [],
   "source": [
    "import torch.optim as optim\n",
    "from torch.autograd import Variable\n",
    "FloatTensor = torch.cuda.FloatTensor\n",
    "LongTensor = torch.cuda.LongTensor"
   ]
  },
  {
   "cell_type": "code",
   "execution_count": 186,
   "metadata": {
    "id": "WSgI15GD5ruO"
   },
   "outputs": [],
   "source": [
    "params = [x for x in fakeCNN.parameters()] + [x for x in fakeClassifier.parameters()]\n",
    "criterion = nn.CrossEntropyLoss()\n",
    "# optimizer = torch.optim.Adam(params=params, lr=0.00001, betas=(0.1, 0.001), eps=1e-08,) # 210\n",
    "# optimizer = torch.optim.Adam(params=params, lr=0.000005, betas=(0.1, 0.001), eps=1e-08,) # 500\n",
    "# optimizer = torch.optim.Adam(params=params, lr=0.000005, eps=1e-08,) # this one\n",
    "optimizer = torch.optim.Adam(params=params, lr=0.00002, eps=1e-08,) # this one\n",
    "# optimizer = torch.optim.Adam(params=params, lr=0.00001) \n",
    "# optimizer = torch.optim.SGD(params=params, lr=0.0001, momentum=0.9)"
   ]
  },
  {
   "cell_type": "code",
   "execution_count": 187,
   "metadata": {
    "id": "eVbD79zuTdch"
   },
   "outputs": [],
   "source": [
    "# Record to be plotted\n",
    "plot_training_loss = []\n",
    "plot_validation_loss = []\n",
    "plot_training_score = []\n",
    "plot_validation_score = []"
   ]
  },
  {
   "cell_type": "markdown",
   "metadata": {
    "id": "34jLtgiWpASO"
   },
   "source": [
    "### Training process"
   ]
  },
  {
   "cell_type": "code",
   "execution_count": null,
   "metadata": {
    "id": "NLzq23ZsHUdu"
   },
   "outputs": [],
   "source": [
    "epochs = 1600\n",
    "num = int(len(labels_train)/batch) + 1\n",
    "for epoch in range(epochs):  # loop over the dataset multiple times\n",
    "\n",
    "    running_loss = 0.0\n",
    "    train_preds = []\n",
    "    train_actuals = []\n",
    "    for i, (pairs, labels) in tqdm(enumerate(train_loader), position=0, leave=True):\n",
    "        fakeCNN.train()\n",
    "        fakeClassifier.train()\n",
    "\n",
    "        if len(labels) < batch:\n",
    "          n_train = len(labels)\n",
    "        else:\n",
    "          n_train = batch\n",
    "\n",
    "        headlines, bodies = pairs.view(n_train, -1).split(4096, dim=1)\n",
    "        headlines = Variable(headlines.type(FloatTensor)).view(n_train, 4096, 1)\n",
    "        bodies = Variable(bodies.type(FloatTensor)).view(n_train, 4096, 1)\n",
    "        labels = Variable(labels).type(LongTensor)\n",
    "        # zero the parameter gradients\n",
    "        # optimizer.zero_grad()\n",
    "        fakeCNN.zero_grad()\n",
    "        fakeClassifier.zero_grad()\n",
    "        \n",
    "        # forward + backward + optimize\n",
    "        headline_feats = fakeCNN(headlines)\n",
    "        body_feats = fakeCNN(bodies)\n",
    "        headline_body = torch.cat((headline_feats, body_feats), 1).view(n_train, -1)\n",
    "        pred = fakeClassifier(headline_body)\n",
    "        loss = criterion(pred, labels)\n",
    "        loss.backward()\n",
    "        optimizer.step()\n",
    "\n",
    "        _, pred_l = torch.max(pred, 1)\n",
    "        train_pred = [LABELS[int(a)] for a in pred_l.cpu().tolist()]\n",
    "        train_actual = [LABELS[int(a)] for a in labels.cpu().tolist()]\n",
    "\n",
    "        train_preds = train_preds + train_pred\n",
    "        train_actuals = train_actuals + train_actual\n",
    "\n",
    "        # print statistics\n",
    "        running_loss += loss.item()\n",
    "        if (i + 1) % num == 0:\n",
    "        # if (epoch + 1) % 25 == 0:\n",
    "          fakeCNN.eval()\n",
    "          fakeClassifier.eval()\n",
    "          actual_labels = []\n",
    "          predicted_labels = []\n",
    "          valid_running_loss = []\n",
    "          for k, (p, l) in enumerate(valid_loader):\n",
    "              if len(l) < batch:\n",
    "                n = len(l)\n",
    "              else:\n",
    "                n = batch\n",
    "              h, b = p.view(n, -1).split(4096, dim=1)\n",
    "              h = Variable(h.type(FloatTensor)).view(n, 4096, 1)\n",
    "              b = Variable(b.type(FloatTensor)).view(n, 4096, 1)\n",
    "              l = Variable(l).type(LongTensor)\n",
    "              h_f = fakeCNN(h).view(n, 768)\n",
    "              b_f = fakeCNN(b).view(n, 768)\n",
    "              h_b = torch.cat((h_f, b_f), 1)\n",
    "              out = fakeClassifier(h_b)\n",
    "              valid_loss = criterion(out, l)\n",
    "              valid_running_loss.append(valid_loss.item())\n",
    "              _, predicted = torch.max(out, 1)\n",
    "\n",
    "              predicted = [LABELS[int(a)] for a in predicted.cpu().tolist()]\n",
    "              actual = [LABELS[int(a)] for a in l.cpu().tolist()]\n",
    "\n",
    "              predicted_labels = predicted_labels + predicted\n",
    "              actual_labels = actual_labels + actual\n",
    "\n",
    "          score,_ = score_submission(actual_labels,predicted_labels)\n",
    "          best_score, _ = score_submission(actual_labels,actual_labels)\n",
    "          final_score = score*100/best_score\n",
    "          plot_validation_score.append(final_score)\n",
    "          print('[TEST] Epoch %i/%i [step %i/%i] score: %.3f' % (epoch + 1, epochs, i + 1, int(labels_train.size()[0]) / batch, final_score))\n",
    "          print(\"Training running loss: \", running_loss/num)\n",
    "          print(\"Valid running loss: \", sum(valid_running_loss)/len(valid_running_loss))\n",
    "          plot_training_loss.append(running_loss/num)\n",
    "          plot_validation_loss.append(sum(valid_running_loss)/len(valid_running_loss))\n",
    "          running_loss = 0.0\n",
    "    score,_ = score_submission(train_actuals,train_preds)\n",
    "    best_score, _ = score_submission(train_actuals,train_actuals)\n",
    "    final_score = score*100/best_score\n",
    "    plot_training_score.append(final_score)\n",
    "    print(\"Training score: \", final_score)\n",
    "    if (epoch + 1) % 100 == 0:\n",
    "      torch.save(fakeCNN, \"models/fakeCNN\" + str(epoch) + \".pt\")\n",
    "      torch.save(fakeClassifier, \"models/fakeClassifier\" + str(epoch) + \".pt\")\n",
    "print('Finished Training')"
   ]
  },
  {
   "cell_type": "markdown",
   "metadata": {
    "id": "xUvHcP9YVH4h"
   },
   "source": [
    "### Save models to Google Drive"
   ]
  },
  {
   "cell_type": "code",
   "execution_count": 132,
   "metadata": {
    "id": "8IM6FJNIUm7a"
   },
   "outputs": [],
   "source": [
    "# torch.save(fakeCNN, \"fakeCNN_new1.pt\")\n",
    "# torch.save(fakeClassifier, \"fakeClassifier_new1.pt\")"
   ]
  },
  {
   "cell_type": "code",
   "execution_count": 194,
   "metadata": {
    "id": "cMLdZ_FQU8DX"
   },
   "outputs": [],
   "source": [
    "!cp -r \"/content/models\" \"/content/drive/My Drive/FakeNewsModels/\" \n",
    "# !cp \"fakeClassifier_new1.pt\" \"/content/drive/My Drive/FakeNewsModels\""
   ]
  },
  {
   "cell_type": "markdown",
   "metadata": {
    "id": "OyEPfupA9TSh"
   },
   "source": [
    "### Load model Google Drive\n"
   ]
  },
  {
   "cell_type": "code",
   "execution_count": 134,
   "metadata": {
    "id": "3-VrlItM9aRK"
   },
   "outputs": [],
   "source": [
    "!cp \"/content/drive/My Drive/FakeNewsModels/fakeCNN_new1.pt\" \"fakeCNN.pt\"\n",
    "!cp \"/content/drive/My Drive/FakeNewsModels/fakeClassifier_new1.pt\" \"fakeClassifier.pt\" "
   ]
  },
  {
   "cell_type": "code",
   "execution_count": 242,
   "metadata": {
    "id": "wIGeIlLR3v0v"
   },
   "outputs": [],
   "source": [
    "fakeCNN = torch.load(\"models/fakeCNN1599.pt\")\n",
    "fakeClassifier = torch.load(\"models/fakeClassifier1599.pt\")"
   ]
  },
  {
   "cell_type": "markdown",
   "metadata": {
    "id": "yeY9osx1uizg"
   },
   "source": [
    "## Plot results"
   ]
  },
  {
   "cell_type": "code",
   "execution_count": 195,
   "metadata": {
    "colab": {
     "base_uri": "https://localhost:8080/",
     "height": 295
    },
    "id": "3VUfnnI4w_Wd",
    "outputId": "c0623759-7372-4513-a9b8-ce3bdb2789d4"
   },
   "outputs": [
    {
     "data": {
      "image/png": "[encoded data removed]",
      "text/plain": [
       "<Figure size 432x288 with 1 Axes>"
      ]
     },
     "metadata": {
      "needs_background": "light",
      "tags": []
     },
     "output_type": "display_data"
    }
   ],
   "source": [
    "import matplotlib.pyplot as plt\n",
    "plot_epochs = np.arange(1, 1600+1)\n",
    "plt.plot(plot_epochs, plot_training_loss, 'r-', plot_epochs, plot_validation_loss)\n",
    "plt.xlabel(\"Epoch\")\n",
    "plt.ylabel(\"Running loss\")\n",
    "plt.title(\"Running loss on train dataset and validation dataset\")\n",
    "plt.legend(['Running loss on train dataset', 'Running loss on valid dataset'])\n",
    "plt.show()"
   ]
  },
  {
   "cell_type": "code",
   "execution_count": 196,
   "metadata": {
    "colab": {
     "base_uri": "https://localhost:8080/",
     "height": 295
    },
    "id": "gBQvpOrchoUq",
    "outputId": "771e9137-504f-475d-c268-331a5e424e12"
   },
   "outputs": [
    {
     "data": {
      "image/png": "[encoded data removed]",
      "text/plain": [
       "<Figure size 432x288 with 1 Axes>"
      ]
     },
     "metadata": {
      "needs_background": "light",
      "tags": []
     },
     "output_type": "display_data"
    }
   ],
   "source": [
    "plt.plot(plot_epochs, plot_training_score, 'r-', plot_epochs, plot_validation_score, 'b-')\n",
    "plt.xlabel(\"Epoch\")\n",
    "plt.ylabel(\"Score\")\n",
    "plt.title(\"Scores on train dataset and validation dataset\")\n",
    "plt.legend(['Score on train dataset', 'Score on valid dataset'])\n",
    "plt.show()"
   ]
  },
  {
   "cell_type": "markdown",
   "metadata": {
    "id": "56jexnJoidZL"
   },
   "source": [
    "## Calculate score on test dataset"
   ]
  },
  {
   "cell_type": "code",
   "execution_count": 197,
   "metadata": {
    "colab": {
     "base_uri": "https://localhost:8080/"
    },
    "id": "dJcVwgi9h80w",
    "outputId": "fce071dd-7b5c-47f7-db5f-2f9957ff7466"
   },
   "outputs": [
    {
     "name": "stdout",
     "output_type": "stream",
     "text": [
      "Reading dataset\n",
      "Total stances: 25413\n",
      "Total bodies: 904\n"
     ]
    }
   ],
   "source": [
    "test_dataset = DataSet(\"competition_test\")\n",
    "test_headlines = []\n",
    "\n",
    "for stance in test_dataset.stances:\n",
    "  test_headlines.append(stance['Headline'])"
   ]
  },
  {
   "cell_type": "code",
   "execution_count": 198,
   "metadata": {
    "colab": {
     "base_uri": "https://localhost:8080/"
    },
    "id": "12rnKg0SkMBv",
    "outputId": "1addca49-e8bd-41bd-e074-edf770f523fd"
   },
   "outputs": [
    {
     "name": "stderr",
     "output_type": "stream",
     "text": [
      "\n",
      "100%|██████████| 904/904 [00:00<00:00, 849193.91it/s]\n"
     ]
    }
   ],
   "source": [
    "test_bodies = []\n",
    "\n",
    "for _, body in tqdm(test_dataset.articles.items()):\n",
    "  test_bodies.append(body)"
   ]
  },
  {
   "cell_type": "code",
   "execution_count": 199,
   "metadata": {
    "id": "EQKj4ek-jKE7"
   },
   "outputs": [],
   "source": [
    "from models import InferSent\n",
    "model_version = 2\n",
    "MODEL_PATH = \"infersent2.pkl\"\n",
    "W2V_PATH = 'fastText/crawl-300d-2M.vec'\n",
    "params_model = {'bsize': 64, 'word_emb_dim': 300, 'enc_lstm_dim': 2048,\n",
    "                'pool_type': 'max', 'dpout_model': 0.0, 'version': model_version}\n",
    "infersent = InferSent(params_model)\n",
    "infersent.load_state_dict(torch.load(MODEL_PATH))\n",
    "use_cuda = True\n",
    "infersent = infersent.cuda() if use_cuda else infersent\n",
    "infersent.set_w2v_path(W2V_PATH)"
   ]
  },
  {
   "cell_type": "code",
   "execution_count": 200,
   "metadata": {
    "colab": {
     "base_uri": "https://localhost:8080/"
    },
    "id": "3tak-RiMjKE7",
    "outputId": "a5391b40-be8d-4edd-fce4-81ec7f22a0e0"
   },
   "outputs": [
    {
     "name": "stdout",
     "output_type": "stream",
     "text": [
      "Found 3147(/3293) words with w2v vectors\n",
      "Vocab size : 3147\n"
     ]
    }
   ],
   "source": [
    "infersent.build_vocab(test_headlines, tokenize=True)\n",
    "test_headlines_embeddings = infersent.encode(test_headlines, bsize=128, tokenize=True)\n",
    "np.save(\"embeddings/test_headlines.npy\", test_headlines_embeddings)"
   ]
  },
  {
   "cell_type": "code",
   "execution_count": 201,
   "metadata": {
    "colab": {
     "base_uri": "https://localhost:8080/"
    },
    "id": "6GGK8pZVkMBv",
    "outputId": "a1efc1af-5e77-405c-9543-7d3a75fe5273"
   },
   "outputs": [
    {
     "name": "stdout",
     "output_type": "stream",
     "text": [
      "Found 20887(/22611) words with w2v vectors\n",
      "Vocab size : 20887\n"
     ]
    }
   ],
   "source": [
    "infersent.build_vocab(test_bodies, tokenize=True)\n",
    "test_bodies_embeddings = infersent.encode(test_bodies, bsize=16, tokenize=True)\n",
    "np.save(\"embeddings/test_bodies.npy\", test_bodies_embeddings)"
   ]
  },
  {
   "cell_type": "code",
   "execution_count": 202,
   "metadata": {
    "id": "f6hc4awis9dn"
   },
   "outputs": [],
   "source": [
    "!cp \"embeddings/test_headlines.npy\" \"/content/drive/My Drive/embeddings\"\n",
    "!cp \"embeddings/test_bodies.npy\" \"/content/drive/My Drive/embeddings\""
   ]
  },
  {
   "cell_type": "markdown",
   "metadata": {
    "id": "lMXdXNoC755a"
   },
   "source": [
    "### Load test embeddings"
   ]
  },
  {
   "cell_type": "code",
   "execution_count": 105,
   "metadata": {
    "id": "05N__DUL8way"
   },
   "outputs": [],
   "source": [
    "!mkdir embeddings\n",
    "!cp \"/content/drive/My Drive/embeddings/test_headlines.npy\" \"embeddings/\"\n",
    "!cp \"/content/drive/My Drive/embeddings/test_bodies.npy\" \"embeddings/\" "
   ]
  },
  {
   "cell_type": "code",
   "execution_count": 106,
   "metadata": {
    "id": "3BCorPfN71Uo"
   },
   "outputs": [],
   "source": [
    "test_headlines_embeddings = np.load(\"embeddings/test_headlines.npy\")\n",
    "test_bodies_embeddings = np.load(\"embeddings/test_bodies.npy\" )"
   ]
  },
  {
   "cell_type": "markdown",
   "metadata": {
    "id": "xWuca2H4laFJ"
   },
   "source": [
    "### Calculate score"
   ]
  },
  {
   "cell_type": "code",
   "execution_count": 203,
   "metadata": {
    "id": "_l_g7-fOkrYt"
   },
   "outputs": [],
   "source": [
    "test_bodies_embeddings_dict = {}\n",
    "ind = 0\n",
    "for i, body in test_dataset.articles.items():\n",
    "  test_bodies_embeddings_dict[i] = test_bodies_embeddings[ind]\n",
    "  ind += 1 "
   ]
  },
  {
   "cell_type": "code",
   "execution_count": 204,
   "metadata": {
    "id": "RPIJAMYkjlPq"
   },
   "outputs": [],
   "source": [
    "pairs_test, labels_test = make_pairs(test_headlines_embeddings, test_bodies_embeddings_dict, test_dataset.stances)\n",
    "test = torch.utils.data.dataset.TensorDataset(pairs_test, labels_test)\n",
    "test_loader = torch.utils.data.DataLoader(test, batch_size=batch, shuffle=True)"
   ]
  },
  {
   "cell_type": "code",
   "execution_count": 205,
   "metadata": {
    "colab": {
     "base_uri": "https://localhost:8080/"
    },
    "id": "OHYIs5fbhS3x",
    "outputId": "558fa73b-8be0-4f2a-af20-835928e66325"
   },
   "outputs": [
    {
     "data": {
      "text/plain": [
       "25413"
      ]
     },
     "execution_count": 205,
     "metadata": {
      "tags": []
     },
     "output_type": "execute_result"
    }
   ],
   "source": [
    "\n",
    "len(labels_test)"
   ]
  },
  {
   "cell_type": "code",
   "execution_count": 243,
   "metadata": {
    "colab": {
     "base_uri": "https://localhost:8080/"
    },
    "id": "ImOJQaAllF9t",
    "outputId": "0cfd27d6-e030-4bfb-ecff-ba51f1af320f"
   },
   "outputs": [
    {
     "name": "stderr",
     "output_type": "stream",
     "text": [
      "0it [00:00, ?it/s]/usr/local/lib/python3.6/dist-packages/ipykernel_launcher.py:18: UserWarning: Implicit dimension choice for softmax has been deprecated. Change the call to include dim=X as an argument.\n",
      "199it [00:02, 67.57it/s]"
     ]
    },
    {
     "name": "stdout",
     "output_type": "stream",
     "text": [
      "-------------------------------------------------------------\n",
      "|           |   agree   | disagree  |  discuss  | unrelated |\n",
      "-------------------------------------------------------------\n",
      "|   agree   |    286    |    65     |    275    |   1277    |\n",
      "-------------------------------------------------------------\n",
      "| disagree  |    94     |    14     |    110    |    479    |\n",
      "-------------------------------------------------------------\n",
      "|  discuss  |    303    |    38     |   1670    |   2453    |\n",
      "-------------------------------------------------------------\n",
      "| unrelated |    451    |    128    |   1087    |   16683   |\n",
      "-------------------------------------------------------------\n",
      "Score: 6362.0 out of 11651.25\t(54.60358330651218%)\n",
      "Testing score:  54.60358330651218\n"
     ]
    },
    {
     "name": "stderr",
     "output_type": "stream",
     "text": [
      "\n"
     ]
    }
   ],
   "source": [
    "test_preds = []\n",
    "test_actuals = []\n",
    "for i, (pairs, labels) in tqdm(enumerate(test_loader), position=0, leave=True):\n",
    "    fakeCNN.eval()\n",
    "    fakeClassifier.eval()\n",
    "\n",
    "    if len(labels) < batch:\n",
    "      n_test = len(labels)\n",
    "    else:\n",
    "      n_test = batch\n",
    "\n",
    "    headlines, bodies = pairs.view(n_test, -1).split(4096, dim=1)\n",
    "    headlines = Variable(headlines.type(FloatTensor)).view(n_test, 4096, 1)\n",
    "    bodies = Variable(bodies.type(FloatTensor)).view(n_test, 4096, 1)\n",
    "    labels = Variable(labels).type(LongTensor)\n",
    "    \n",
    "    # forward + backward + optimize\n",
    "    headline_feats = fakeCNN(headlines)\n",
    "    body_feats = fakeCNN(bodies)\n",
    "    headline_body = torch.cat((headline_feats, body_feats), 1).view(n_test, -1)\n",
    "    pred = fakeClassifier(headline_body)\n",
    "    _, pred_l = torch.max(pred, 1)\n",
    "    test_pred = [LABELS[int(a)] for a in pred_l.cpu().tolist()]\n",
    "    test_actual = [LABELS[int(a)] for a in labels.cpu().tolist()]\n",
    "\n",
    "    test_preds = test_preds + test_pred\n",
    "    test_actuals = test_actuals + test_actual\n",
    "\n",
    "score = report_score(test_actuals, test_preds)\n",
    "print(\"Testing score: \", score)"
   ]
  },
  {
   "cell_type": "markdown",
   "metadata": {
    "id": "gP2eIxrUmsfU"
   },
   "source": [
    "# Generate output files"
   ]
  },
  {
   "cell_type": "code",
   "execution_count": null,
   "metadata": {
    "id": "MBDceObgh-Td"
   },
   "outputs": [],
   "source": [
    "import os"
   ]
  },
  {
   "cell_type": "code",
   "execution_count": 244,
   "metadata": {
    "id": "7A7Xq-pukL6Q"
   },
   "outputs": [],
   "source": [
    "def generate_files(torch_loader):\n",
    "  preds = []\n",
    "  actuals = []\n",
    "  for i, (pairs, labels) in tqdm(enumerate(torch_loader), position=0, leave=True):\n",
    "      fakeCNN.eval()\n",
    "      fakeClassifier.eval()\n",
    "\n",
    "      if len(labels) < batch:\n",
    "        n = len(labels)\n",
    "      else:\n",
    "        n = batch\n",
    "\n",
    "      headlines, bodies = pairs.view(n, -1).split(4096, dim=1)\n",
    "      headlines = Variable(headlines.type(FloatTensor)).view(n, 4096, 1)\n",
    "      bodies = Variable(bodies.type(FloatTensor)).view(n, 4096, 1)\n",
    "      labels = Variable(labels).type(LongTensor)\n",
    "      \n",
    "      # forward + backward + optimize\n",
    "      headline_feats = fakeCNN(headlines)\n",
    "      body_feats = fakeCNN(bodies)\n",
    "      headline_body = torch.cat((headline_feats, body_feats), 1).view(n, -1)\n",
    "      pred = fakeClassifier(headline_body)\n",
    "      _, pred_l = torch.max(pred, 1)\n",
    "      pred = [LABELS[int(a)] for a in pred_l.cpu().tolist()]\n",
    "      actual = [LABELS[int(a)] for a in labels.cpu().tolist()]\n",
    "\n",
    "      preds = preds + pred\n",
    "      actuals = actuals + actual\n",
    "  return preds, actuals\n",
    "  "
   ]
  },
  {
   "cell_type": "code",
   "execution_count": 245,
   "metadata": {
    "id": "TU-Xahv0h8Fk"
   },
   "outputs": [],
   "source": [
    "def output(set_name, preds, actuals):\n",
    "  pred_file = set_name + \"_preds.txt\"\n",
    "  actual_file = set_name + \"_actuals.txt\"\n",
    "  with open(pred_file, \"w\") as w:\n",
    "    for p in preds:\n",
    "      w.write(p + '\\n')\n",
    "  with open(actual_file, \"w\") as w:\n",
    "    for a in actuals:\n",
    "      w.write(a + '\\n') "
   ]
  },
  {
   "cell_type": "code",
   "execution_count": 246,
   "metadata": {
    "colab": {
     "base_uri": "https://localhost:8080/"
    },
    "id": "mYMsS4QMpEoE",
    "outputId": "416e414e-66c7-4f05-b3e7-63333cb11890"
   },
   "outputs": [
    {
     "name": "stderr",
     "output_type": "stream",
     "text": [
      "0it [00:00, ?it/s]/usr/local/lib/python3.6/dist-packages/ipykernel_launcher.py:18: UserWarning: Implicit dimension choice for softmax has been deprecated. Change the call to include dim=X as an argument.\n",
      "316it [00:04, 67.48it/s]\n"
     ]
    }
   ],
   "source": [
    "train_preds, train_actuals = generate_files(train_loader)"
   ]
  },
  {
   "cell_type": "code",
   "execution_count": 225,
   "metadata": {
    "id": "nSZG3qoGjJ5O"
   },
   "outputs": [],
   "source": [
    "output(\"train\", train_preds, train_actuals)"
   ]
  },
  {
   "cell_type": "code",
   "execution_count": 247,
   "metadata": {
    "colab": {
     "base_uri": "https://localhost:8080/"
    },
    "id": "13uZ-VPzpM9s",
    "outputId": "946d3092-1dc2-461f-beaf-9dc1db00ce5c"
   },
   "outputs": [
    {
     "name": "stdout",
     "output_type": "stream",
     "text": [
      "-------------------------------------------------------------\n",
      "|           |   agree   | disagree  |  discuss  | unrelated |\n",
      "-------------------------------------------------------------\n",
      "|   agree   |   1770    |    99     |    736    |    311    |\n",
      "-------------------------------------------------------------\n",
      "| disagree  |    125    |    380    |    104    |    69     |\n",
      "-------------------------------------------------------------\n",
      "|  discuss  |    19     |     0     |   6708    |    382    |\n",
      "-------------------------------------------------------------\n",
      "| unrelated |     6     |     0     |    36     |   29605   |\n",
      "-------------------------------------------------------------\n",
      "Score: 16530.0 out of 18114.75\t(91.2516043555666%)\n"
     ]
    },
    {
     "data": {
      "text/plain": [
       "91.2516043555666"
      ]
     },
     "execution_count": 247,
     "metadata": {
      "tags": []
     },
     "output_type": "execute_result"
    }
   ],
   "source": [
    "report_score(train_actuals, train_preds)"
   ]
  },
  {
   "cell_type": "code",
   "execution_count": 248,
   "metadata": {
    "colab": {
     "base_uri": "https://localhost:8080/"
    },
    "id": "5mYtM48bpQPu",
    "outputId": "7d93a37d-884f-48e2-b1ec-b2333b5bbc8f"
   },
   "outputs": [
    {
     "name": "stderr",
     "output_type": "stream",
     "text": [
      "0it [00:00, ?it/s]/usr/local/lib/python3.6/dist-packages/ipykernel_launcher.py:18: UserWarning: Implicit dimension choice for softmax has been deprecated. Change the call to include dim=X as an argument.\n",
      "76it [00:01, 68.86it/s]\n"
     ]
    }
   ],
   "source": [
    "validation_preds, validation_actuals = generate_files(valid_loader)"
   ]
  },
  {
   "cell_type": "code",
   "execution_count": 226,
   "metadata": {
    "id": "ddLdTFY1kA0d"
   },
   "outputs": [],
   "source": [
    "output(\"validation\", validation_preds, validation_actuals)"
   ]
  },
  {
   "cell_type": "code",
   "execution_count": 249,
   "metadata": {
    "colab": {
     "base_uri": "https://localhost:8080/"
    },
    "id": "GFeurBcDpg4M",
    "outputId": "7972861b-1e6e-477a-bc49-112dcfb88190"
   },
   "outputs": [
    {
     "name": "stdout",
     "output_type": "stream",
     "text": [
      "-------------------------------------------------------------\n",
      "|           |   agree   | disagree  |  discuss  | unrelated |\n",
      "-------------------------------------------------------------\n",
      "|   agree   |    325    |    20     |    261    |    156    |\n",
      "-------------------------------------------------------------\n",
      "| disagree  |    33     |    55     |    44     |    30     |\n",
      "-------------------------------------------------------------\n",
      "|  discuss  |    116    |    12     |   1356    |    316    |\n",
      "-------------------------------------------------------------\n",
      "| unrelated |    60     |    16     |    203    |   6619    |\n",
      "-------------------------------------------------------------\n",
      "Score: 3512.25 out of 4448.5\t(78.95357985837923%)\n"
     ]
    },
    {
     "data": {
      "text/plain": [
       "78.95357985837923"
      ]
     },
     "execution_count": 249,
     "metadata": {
      "tags": []
     },
     "output_type": "execute_result"
    }
   ],
   "source": [
    "report_score(validation_actuals, validation_preds)"
   ]
  },
  {
   "cell_type": "code",
   "execution_count": 250,
   "metadata": {
    "colab": {
     "base_uri": "https://localhost:8080/"
    },
    "id": "WXqY1Motpi6t",
    "outputId": "85fd319b-4f6c-4ce4-cad4-f681edaf0049"
   },
   "outputs": [
    {
     "name": "stderr",
     "output_type": "stream",
     "text": [
      "0it [00:00, ?it/s]/usr/local/lib/python3.6/dist-packages/ipykernel_launcher.py:18: UserWarning: Implicit dimension choice for softmax has been deprecated. Change the call to include dim=X as an argument.\n",
      "199it [00:02, 66.78it/s]\n"
     ]
    }
   ],
   "source": [
    "test_preds, test_actuals = generate_files(test_loader)"
   ]
  },
  {
   "cell_type": "code",
   "execution_count": 227,
   "metadata": {
    "id": "34J5tsUAkGKZ"
   },
   "outputs": [],
   "source": [
    "output(\"test\", test_preds, test_actuals)"
   ]
  },
  {
   "cell_type": "code",
   "execution_count": 251,
   "metadata": {
    "colab": {
     "base_uri": "https://localhost:8080/"
    },
    "id": "hMQtl9vYppsy",
    "outputId": "1432798c-6f85-4b32-c1fe-7c4fe495f65e"
   },
   "outputs": [
    {
     "name": "stdout",
     "output_type": "stream",
     "text": [
      "-------------------------------------------------------------\n",
      "|           |   agree   | disagree  |  discuss  | unrelated |\n",
      "-------------------------------------------------------------\n",
      "|   agree   |    286    |    65     |    275    |   1277    |\n",
      "-------------------------------------------------------------\n",
      "| disagree  |    94     |    14     |    110    |    479    |\n",
      "-------------------------------------------------------------\n",
      "|  discuss  |    303    |    38     |   1670    |   2453    |\n",
      "-------------------------------------------------------------\n",
      "| unrelated |    451    |    128    |   1087    |   16683   |\n",
      "-------------------------------------------------------------\n",
      "Score: 6362.0 out of 11651.25\t(54.60358330651218%)\n"
     ]
    },
    {
     "data": {
      "text/plain": [
       "54.60358330651218"
      ]
     },
     "execution_count": 251,
     "metadata": {
      "tags": []
     },
     "output_type": "execute_result"
    }
   ],
   "source": [
    "report_score(test_actuals, test_preds)"
   ]
  },
  {
   "cell_type": "code",
   "execution_count": null,
   "metadata": {
    "id": "-goEB5oqhxmt"
   },
   "outputs": [],
   "source": []
  }
 ],
 "metadata": {
  "accelerator": "GPU",
  "colab": {
   "collapsed_sections": [],
   "machine_shape": "hm",
   "name": "project.ipynb",
   "provenance": [],
   "toc_visible": true
  },
  "kernelspec": {
   "display_name": "Python 3",
   "language": "python",
   "name": "python3"
  },
  "language_info": {
   "codemirror_mode": {
    "name": "ipython",
    "version": 3
   },
   "file_extension": ".py",
   "mimetype": "text/x-python",
   "name": "python",
   "nbconvert_exporter": "python",
   "pygments_lexer": "ipython3",
   "version": "3.7.4"
  }
 },
 "nbformat": 4,
 "nbformat_minor": 1
}
